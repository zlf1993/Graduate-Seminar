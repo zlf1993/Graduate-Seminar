{
 "cells": [
  {
   "cell_type": "code",
   "execution_count": 1,
   "metadata": {},
   "outputs": [],
   "source": [
    "import numpy as np\n",
    "import tensorflow as tf\n",
    "from include.data import get_data_set\n",
    "\n"
   ]
  },
  {
   "cell_type": "code",
   "execution_count": 2,
   "metadata": {},
   "outputs": [],
   "source": [
    "def model():\n",
    "    _IMAGE_SIZE = 32\n",
    "    _IMAGE_CHANNELS = 3\n",
    "    _NUM_CLASSES = 10\n",
    "    tf.reset_default_graph()\n",
    "    con1_filter = tf.Variable(tf.truncated_normal(shape=[3, 3, 3, 64], mean=0, stddev=0.08))\n",
    "    con2_filter = tf.Variable(tf.truncated_normal(shape=[3, 3, 64, 128], mean=0, stddev=0.08))\n",
    "    con3_filter = tf.Variable(tf.truncated_normal(shape=[5, 5, 128, 256], mean=0, stddev=0.08))\n",
    "    con4_filter = tf.Variable(tf.truncated_normal(shape=[5, 5, 256, 512], mean=0, stddev=0.08))\n",
    "\n",
    "    with tf.name_scope('main_params'):\n",
    "        x = tf.placeholder(tf.float32, shape=[None, _IMAGE_SIZE * _IMAGE_SIZE * _IMAGE_CHANNELS], name='Input')\n",
    "        y = tf.placeholder(tf.float32, shape=[None, _NUM_CLASSES], name='Output')\n",
    "        keep_prob = tf.placeholder(tf.float32, shape=[], name='keep_prob')\n",
    "        x_image = tf.reshape(x, [-1, _IMAGE_SIZE, _IMAGE_SIZE, _IMAGE_CHANNELS], name='images')\n",
    "\n",
    "        global_step = tf.Variable(initial_value=0, trainable=False, name='global_step')\n",
    "        learning_rate = tf.placeholder(tf.float32, shape=[], name='learning_rate')\n",
    "\n",
    "    with tf.variable_scope('conv1') as scope:\n",
    "        # 1, 2\n",
    "        conv1 = tf.nn.conv2d(x_image, con1_filter, strides=[1, 1, 1, 1], padding='SAME', name='Conv1')\n",
    "        conv1 = tf.nn.relu(conv1, name='Relu')\n",
    "        conv1_pool = tf.nn.max_pool(conv1, ksize=[1, 2, 2, 1], strides=[1, 2, 2, 1], padding='SAME', name='Max_pooling')\n",
    "        conv1_bn = tf.layers.batch_normalization(conv1_pool, name='Normalization')\n",
    "    with tf.variable_scope('conv2') as scope:\n",
    "        # 3, 4\n",
    "        conv2 = tf.nn.conv2d(conv1_bn, con2_filter, strides=[1, 1, 1, 1], padding='SAME', name='Conv2')\n",
    "        conv2 = tf.nn.relu(conv2, name='Relu')\n",
    "        conv2_pool = tf.nn.max_pool(conv2, ksize=[1, 2, 2, 1], strides=[1, 2, 2, 1], padding='SAME', name='Max_pooling')\n",
    "        conv2_bn = tf.layers.batch_normalization(conv2_pool, name='Normalization')\n",
    "    with tf.variable_scope('conv3') as scope:\n",
    "        # 5, 6\n",
    "        conv3 = tf.nn.conv2d(conv2_bn, con3_filter, strides=[1, 1, 1, 1], padding='SAME', name='Conv3')\n",
    "        conv3 = tf.nn.relu(conv3, name='Relu')\n",
    "        conv3_pool = tf.nn.max_pool(conv3, ksize=[1, 2, 2, 1], strides=[1, 2, 2, 1], padding='SAME', name='Max_pooling')\n",
    "        conv3_bn = tf.layers.batch_normalization(conv3_pool, name='Normalization')\n",
    "    with tf.variable_scope('conv4') as scope:\n",
    "        # 7, 8\n",
    "        conv4 = tf.nn.conv2d(conv3_bn, con4_filter, strides=[1, 1, 1, 1], padding='SAME', name='Conv4')\n",
    "        conv4 = tf.nn.relu(conv4, name='Relu')\n",
    "        conv4_pool = tf.nn.max_pool(conv4, ksize=[1, 2, 2, 1], strides=[1, 2, 2, 1], padding='SAME', name='Max_pooling')\n",
    "        conv4_bn = tf.layers.batch_normalization(conv4_pool, name='Normalization')\n",
    "\n",
    "    # 9\n",
    "    flat = tf.contrib.layers.flatten(conv4_bn)\n",
    "    with tf.variable_scope('full1') as scope:\n",
    "        # 10\n",
    "        full1 = tf.contrib.layers.fully_connected(inputs=flat, num_outputs=128, activation_fn=tf.nn.relu)\n",
    "        full1 = tf.nn.dropout(full1, keep_prob)\n",
    "        full1 = tf.layers.batch_normalization(full1)\n",
    "    with tf.variable_scope('full2') as scope:\n",
    "        # 11\n",
    "        full2 = tf.contrib.layers.fully_connected(inputs=full1, num_outputs=256, activation_fn=tf.nn.relu)\n",
    "        full2 = tf.nn.dropout(full2, keep_prob)\n",
    "        full2 = tf.layers.batch_normalization(full2)\n",
    "    with tf.variable_scope('full3') as scope:\n",
    "        # 12\n",
    "        full3 = tf.contrib.layers.fully_connected(inputs=full2, num_outputs=512, activation_fn=tf.nn.relu)\n",
    "        full3 = tf.nn.dropout(full3, keep_prob)\n",
    "        full3 = tf.layers.batch_normalization(full3)\n",
    "    with tf.variable_scope('full4') as scope:\n",
    "        # 13\n",
    "        full4 = tf.contrib.layers.fully_connected(inputs=full3, num_outputs=1024, activation_fn=tf.nn.relu)\n",
    "        full4 = tf.nn.dropout(full4, keep_prob)\n",
    "        full4 = tf.layers.batch_normalization(full4)\n",
    "    with tf.variable_scope('full5_softmax') as scope:\n",
    "        softmax = tf.layers.dense(inputs=full4, units=_NUM_CLASSES, activation=None, name=scope.name)\n",
    "        y_pred_cls = tf.argmax(softmax, axis=1)\n",
    "    return x, y, keep_prob, full1, full2, learning_rate, y_pred_cls\n",
    "\n",
    "\n",
    "def lr(epoch):\n",
    "    learning_rate = 1e-3\n",
    "\n",
    "    if epoch> 10:\n",
    "        learning_rate = 1e-4\n",
    "    return learning_rate"
   ]
  },
  {
   "cell_type": "code",
   "execution_count": 3,
   "metadata": {},
   "outputs": [
    {
     "data": {
      "text/plain": [
       "array([3, 8, 8, ..., 5, 1, 7])"
      ]
     },
     "execution_count": 3,
     "metadata": {},
     "output_type": "execute_result"
    }
   ],
   "source": [
    "x, y, keep_prob, full1, full2, learning_rate, y_pred_cls = model()\n",
    "test_x, test_y = get_data_set(\"test\")\n",
    "y_class = np.argmax(test_y, axis=1)\n",
    "_SAVE_PATH = \"./tensorboard/cifar-10-v1.0.0/\"\n",
    "_BATCH_SIZE = 128\n",
    "y_class"
   ]
  },
  {
   "cell_type": "code",
   "execution_count": 4,
   "metadata": {},
   "outputs": [
    {
     "name": "stdout",
     "output_type": "stream",
     "text": [
      "\n",
      "Trying to restore last checkpoint ...\n",
      "INFO:tensorflow:Restoring parameters from ./tensorboard/cifar-10-v1.0.0/-5865\n",
      "Restored checkpoint from: ./tensorboard/cifar-10-v1.0.0/-5865\n"
     ]
    }
   ],
   "source": [
    "saver = tf.train.Saver()\n",
    "sess = tf.Session()\n",
    "\n",
    "\n",
    "try:\n",
    "    print(\"\\nTrying to restore last checkpoint ...\")\n",
    "    last_chk_path = tf.train.latest_checkpoint(checkpoint_dir=_SAVE_PATH)\n",
    "    saver.restore(sess, save_path=last_chk_path)\n",
    "    print(\"Restored checkpoint from:\", last_chk_path)\n",
    "except Exception:\n",
    "    print(\"\\nFailed to restore checkpoint. Initializing variables instead.\")"
   ]
  },
  {
   "cell_type": "code",
   "execution_count": 5,
   "metadata": {},
   "outputs": [],
   "source": [
    "predicted_out = np.zeros(shape=[len(test_y), 128], dtype=np.float32)\n",
    "#predicted_class = np.zeros(shape=len(test_x), dtype=np.int)\n",
    "i = 0\n",
    "while i < len(test_x):\n",
    "    j = min(i + _BATCH_SIZE, len(test_x))\n",
    "    batch_xs = test_x[i:j, :]\n",
    "    batch_ys = test_y[i:j, :]\n",
    "    predicted_out[i:j] = sess.run(\n",
    "        full1,\n",
    "        feed_dict={x: batch_xs, y: batch_ys, learning_rate: lr(1), keep_prob: 1.0}\n",
    "    )\n",
    "    i = j\n",
    "predicted_out1 = predicted_out[:3000]\n",
    "np.save('predicted_out1.npy', predicted_out1)"
   ]
  },
  {
   "cell_type": "code",
   "execution_count": 6,
   "metadata": {},
   "outputs": [],
   "source": [
    "with open(\"metadata.tsv\", 'w') as file_metadata:\n",
    "    i = 0\n",
    "    #file_metadata.write(\"Index\\tLabel\\n\")\n",
    "    for label in y_class:\n",
    "        if i<3000:\n",
    "            file_metadata.write(\"%s\\n\" % str(label))\n",
    "        else:\n",
    "            break\n",
    "path_for_cifar_metadata =  'metadata.tsv'"
   ]
  },
  {
   "cell_type": "code",
   "execution_count": 7,
   "metadata": {},
   "outputs": [],
   "source": [
    "sess.close()"
   ]
  },
  {
   "cell_type": "code",
   "execution_count": null,
   "metadata": {},
   "outputs": [],
   "source": []
  },
  {
   "cell_type": "code",
   "execution_count": null,
   "metadata": {},
   "outputs": [],
   "source": []
  },
  {
   "cell_type": "code",
   "execution_count": null,
   "metadata": {},
   "outputs": [],
   "source": []
  }
 ],
 "metadata": {
  "kernelspec": {
   "display_name": "Python 3",
   "language": "python",
   "name": "python3"
  },
  "language_info": {
   "codemirror_mode": {
    "name": "ipython",
    "version": 3
   },
   "file_extension": ".py",
   "mimetype": "text/x-python",
   "name": "python",
   "nbconvert_exporter": "python",
   "pygments_lexer": "ipython3",
   "version": "3.5.2"
  }
 },
 "nbformat": 4,
 "nbformat_minor": 2
}
